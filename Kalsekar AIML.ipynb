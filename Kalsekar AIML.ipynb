{
 "cells": [
  {
   "cell_type": "markdown",
   "id": "7011d48f",
   "metadata": {},
   "source": [
    "# Variables "
   ]
  },
  {
   "cell_type": "code",
   "execution_count": null,
   "id": "e20062df",
   "metadata": {},
   "outputs": [],
   "source": [
    "a = 23\n",
    "print(a)"
   ]
  },
  {
   "cell_type": "code",
   "execution_count": null,
   "id": "e2004407",
   "metadata": {},
   "outputs": [],
   "source": [
    "print(type(a))"
   ]
  },
  {
   "cell_type": "code",
   "execution_count": null,
   "id": "5e9366fd",
   "metadata": {},
   "outputs": [],
   "source": [
    "b = 3.0\n",
    "\n",
    "print(type(b))"
   ]
  },
  {
   "cell_type": "code",
   "execution_count": null,
   "id": "cb6d7d1b",
   "metadata": {},
   "outputs": [],
   "source": [
    "c = \"Sumit\"\n",
    "\n",
    "print(c)\n",
    "print(type(c))"
   ]
  },
  {
   "cell_type": "code",
   "execution_count": null,
   "id": "448f8239",
   "metadata": {},
   "outputs": [],
   "source": [
    "d = True\n",
    "\n",
    "print(type(d))"
   ]
  },
  {
   "cell_type": "code",
   "execution_count": null,
   "id": "d74c98d5",
   "metadata": {},
   "outputs": [],
   "source": [
    "a = 23\n",
    "b = 23\n",
    "c = 23\n",
    "\n",
    "# a = 45\n",
    "\n",
    "print(id(a))\n",
    "print(id(b))\n",
    "print(id(c))"
   ]
  },
  {
   "cell_type": "code",
   "execution_count": null,
   "id": "4b08e09c",
   "metadata": {},
   "outputs": [],
   "source": [
    "1) Define Three Variables and Calculate the Sum and Print it\n",
    "2) Convert Doller to Rupees\n",
    "3) Calculate Avrage of Marks of 5 Subjects"
   ]
  },
  {
   "cell_type": "code",
   "execution_count": null,
   "id": "7c154868",
   "metadata": {},
   "outputs": [],
   "source": [
    "print(5 % 2)\n",
    "print(5 // 2)\n",
    "print(5 / 2)"
   ]
  },
  {
   "cell_type": "code",
   "execution_count": null,
   "id": "86b0f577",
   "metadata": {},
   "outputs": [],
   "source": [
    "print(2 ** 3)"
   ]
  },
  {
   "cell_type": "code",
   "execution_count": null,
   "id": "4220c43b",
   "metadata": {},
   "outputs": [],
   "source": [
    "# Q.1) Find the Square Root of 64\n",
    "print(64 ** (1/2))\n",
    "\n",
    "# Q.2) Find the Cube Root of 8\n",
    "print(8 ** (1/3))"
   ]
  },
  {
   "cell_type": "code",
   "execution_count": null,
   "id": "b421d428",
   "metadata": {},
   "outputs": [],
   "source": [
    "print(4 < 5)\n",
    "print(6 > 7)"
   ]
  },
  {
   "cell_type": "code",
   "execution_count": null,
   "id": "83f56ffd",
   "metadata": {},
   "outputs": [],
   "source": [
    "print(not False)"
   ]
  },
  {
   "cell_type": "code",
   "execution_count": null,
   "id": "47647e69",
   "metadata": {},
   "outputs": [],
   "source": [
    "print(True and not False)"
   ]
  },
  {
   "cell_type": "code",
   "execution_count": null,
   "id": "6918feb0",
   "metadata": {},
   "outputs": [],
   "source": [
    "print(4 < 5 and 6 < 7)"
   ]
  },
  {
   "cell_type": "code",
   "execution_count": null,
   "id": "f88b4246",
   "metadata": {},
   "outputs": [],
   "source": [
    "print(4 > 5 or 6 > 7)"
   ]
  },
  {
   "cell_type": "code",
   "execution_count": null,
   "id": "657731c1",
   "metadata": {},
   "outputs": [],
   "source": [
    "print(2 ** 3 ** 2)"
   ]
  },
  {
   "cell_type": "markdown",
   "id": "3aa5dd7c",
   "metadata": {},
   "source": [
    "# Conditionals"
   ]
  },
  {
   "cell_type": "code",
   "execution_count": null,
   "id": "6b2cd1f9",
   "metadata": {},
   "outputs": [],
   "source": [
    "if 4 < 2:\n",
    "    print(\"4 is greater then 2\")\n",
    "else:\n",
    "    print(\"Else Block\")"
   ]
  },
  {
   "cell_type": "raw",
   "id": "09fd0854",
   "metadata": {},
   "source": [
    "q.1) Find whether a number is positive or negative\n",
    "q.2) Check Whether a number is divisible by 5 or not\n",
    "q.3) Check whether a number is even or odd\n",
    "q.4) Take age and check whether she/he is eligible to vote or not\n",
    "q.5) Write a python program to calculate profit or loss based on selling cost and actual cost"
   ]
  },
  {
   "cell_type": "code",
   "execution_count": null,
   "id": "a07f730b",
   "metadata": {},
   "outputs": [],
   "source": [
    "if False:\n",
    "    print(\"if block\")\n",
    "elif True:\n",
    "    print(\"elif block\")\n",
    "elif True:\n",
    "    print(\"elif block\")\n",
    "else:\n",
    "    print(\"else block\")"
   ]
  },
  {
   "cell_type": "raw",
   "id": "c4a21c79",
   "metadata": {},
   "source": [
    "q.6) Take marks from user and print the following\n",
    "marks below 25 -> Grade F\n",
    "      25 to 45 -> Grade E\n",
    "      45 to 50 -> Grade D\n",
    "      50 to 60 -> Grade C\n",
    "      60 to 80 -> Grade B\n",
    "      Above 80 -> Grade A\n",
    "q.7) Take Username and Password from user and print login successful if the Username and Password is Correct otherwise print invalid credentials\n",
    "q.8) Create a python program that calculate the cost of movie ticket based on age\n",
    "1) age under 12, ticket cost is ₹5\n",
    "2) age between 12 to 17, ticket cost ₹7\n",
    "3) otherwise, ticket cost ₹10\n",
    "q.9) take age from user ask if he/she is above 18 if they are then ask if have voter id and if they voter id then only they are eligible for voting otherwise they are not eligible for voting"
   ]
  },
  {
   "cell_type": "code",
   "execution_count": null,
   "id": "b20602a9",
   "metadata": {},
   "outputs": [],
   "source": [
    "if False:\n",
    "    print(\"outer if\")\n",
    "    if True:\n",
    "        print(\"inner if\")"
   ]
  },
  {
   "cell_type": "markdown",
   "id": "12439505",
   "metadata": {},
   "source": [
    "# for"
   ]
  },
  {
   "cell_type": "code",
   "execution_count": null,
   "id": "67e64824",
   "metadata": {},
   "outputs": [],
   "source": [
    "print(\"W\" in \"Qunoot\")"
   ]
  },
  {
   "cell_type": "code",
   "execution_count": null,
   "id": "c4d7e7a3",
   "metadata": {},
   "outputs": [],
   "source": [
    "for char in \"Qunoot\":\n",
    "    print(char)"
   ]
  },
  {
   "cell_type": "code",
   "execution_count": null,
   "id": "fcdfa7d1",
   "metadata": {},
   "outputs": [],
   "source": [
    "List = [5,6,7,8,9,0,3]\n",
    "\n",
    "for i in List:\n",
    "    print(i)"
   ]
  },
  {
   "cell_type": "code",
   "execution_count": null,
   "id": "7de99e6d",
   "metadata": {},
   "outputs": [],
   "source": [
    "for i in range(1,11,2):\n",
    "    print(i)"
   ]
  },
  {
   "cell_type": "code",
   "execution_count": null,
   "id": "0ef67658",
   "metadata": {},
   "outputs": [],
   "source": [
    "45\n",
    "50\n",
    "55\n",
    "60\n",
    "65"
   ]
  },
  {
   "cell_type": "code",
   "execution_count": null,
   "id": "148d7633",
   "metadata": {},
   "outputs": [],
   "source": [
    "10\n",
    "5\n",
    "0\n",
    "-5\n",
    "-10"
   ]
  },
  {
   "cell_type": "code",
   "execution_count": null,
   "id": "0a49df13",
   "metadata": {},
   "outputs": [],
   "source": [
    "print( 3 + 4 )"
   ]
  },
  {
   "cell_type": "code",
   "execution_count": null,
   "id": "289494e5",
   "metadata": {},
   "outputs": [],
   "source": [
    "print(\"4\" + \"3\")"
   ]
  },
  {
   "cell_type": "code",
   "execution_count": null,
   "id": "90963ffd",
   "metadata": {},
   "outputs": [],
   "source": [
    "print(\"4\" + 3)"
   ]
  },
  {
   "cell_type": "code",
   "execution_count": null,
   "id": "b0d4d379",
   "metadata": {},
   "outputs": [],
   "source": [
    "print(\"4\" * 30)"
   ]
  },
  {
   "cell_type": "code",
   "execution_count": null,
   "id": "7302dc93",
   "metadata": {},
   "outputs": [],
   "source": [
    "5\n",
    "55\n",
    "555\n",
    "5555\n",
    "55555"
   ]
  },
  {
   "cell_type": "code",
   "execution_count": null,
   "id": "f5174d33",
   "metadata": {},
   "outputs": [],
   "source": [
    "for i in range(1,6):\n",
    "    print(i * \"5\")"
   ]
  },
  {
   "cell_type": "code",
   "execution_count": null,
   "id": "076de8be",
   "metadata": {},
   "outputs": [],
   "source": [
    "* \n",
    "* *\n",
    "* * *\n",
    "* * * *\n",
    "* * * * *"
   ]
  },
  {
   "cell_type": "code",
   "execution_count": null,
   "id": "afaee97e",
   "metadata": {},
   "outputs": [],
   "source": [
    "for i in range(1,6):\n",
    "    print(i * \"* \")"
   ]
  },
  {
   "cell_type": "code",
   "execution_count": null,
   "id": "8a395178",
   "metadata": {},
   "outputs": [],
   "source": [
    "* * * * *\n",
    "* * * *\n",
    "* * * \n",
    "* * \n",
    "* "
   ]
  },
  {
   "cell_type": "code",
   "execution_count": null,
   "id": "a07b834b",
   "metadata": {},
   "outputs": [],
   "source": [
    "* \n",
    "* * \n",
    "* * * \n",
    "* * * * \n",
    "* * * * * \n",
    "* * * *\n",
    "* * * \n",
    "* * \n",
    "* "
   ]
  },
  {
   "cell_type": "code",
   "execution_count": null,
   "id": "4264e80f",
   "metadata": {},
   "outputs": [],
   "source": [
    "* * * * * \n",
    "* * * *\n",
    "* * * \n",
    "* *\n",
    "* \n",
    "* * \n",
    "* * * \n",
    "* * * * \n",
    "* * * * * "
   ]
  },
  {
   "cell_type": "code",
   "execution_count": null,
   "id": "c97fd88e",
   "metadata": {},
   "outputs": [],
   "source": [
    "for i in range(1,6):\n",
    "    print(\" \" * (5-i) + i * \"* \")"
   ]
  },
  {
   "cell_type": "code",
   "execution_count": null,
   "id": "8ee29965",
   "metadata": {},
   "outputs": [],
   "source": [
    "    *\n",
    "   * * \n",
    "  * * *\n",
    " * * * *\n",
    "* * * * *"
   ]
  },
  {
   "cell_type": "code",
   "execution_count": null,
   "id": "f3065cbc",
   "metadata": {},
   "outputs": [],
   "source": [
    "if False:\n",
    "    print(\"if block\")"
   ]
  },
  {
   "cell_type": "code",
   "execution_count": null,
   "id": "82c5b79c",
   "metadata": {},
   "outputs": [],
   "source": [
    "while True:\n",
    "    print(\"while block\")"
   ]
  },
  {
   "cell_type": "code",
   "execution_count": null,
   "id": "c31ccceb",
   "metadata": {},
   "outputs": [],
   "source": [
    "for i in range(1,11,1):\n",
    "    print(i)"
   ]
  },
  {
   "cell_type": "code",
   "execution_count": null,
   "id": "e46254e1",
   "metadata": {},
   "outputs": [],
   "source": [
    "i = 1\n",
    "\n",
    "while i < 11:\n",
    "    print(i)\n",
    "    i += 1"
   ]
  },
  {
   "cell_type": "code",
   "execution_count": null,
   "id": "b19caf5b",
   "metadata": {},
   "outputs": [],
   "source": [
    "20\n",
    "25\n",
    "30\n",
    "35\n",
    "40\n",
    "45"
   ]
  },
  {
   "cell_type": "code",
   "execution_count": null,
   "id": "f17e4a56",
   "metadata": {},
   "outputs": [],
   "source": [
    "34\n",
    "31\n",
    "28\n",
    "25\n",
    "22\n",
    "19"
   ]
  },
  {
   "cell_type": "code",
   "execution_count": null,
   "id": "04ea7520",
   "metadata": {},
   "outputs": [],
   "source": [
    "*\n",
    "* *\n",
    "* * *\n",
    "* * * *"
   ]
  },
  {
   "cell_type": "code",
   "execution_count": null,
   "id": "700ef651",
   "metadata": {},
   "outputs": [],
   "source": [
    "   *\n",
    "  * *\n",
    " * * *\n",
    "* * * *"
   ]
  },
  {
   "cell_type": "code",
   "execution_count": null,
   "id": "4fcf64c7",
   "metadata": {},
   "outputs": [],
   "source": [
    "Sum = 0\n",
    "for i in range(1,6):\n",
    "    Sum = Sum + i\n",
    "    \n",
    "print(Sum)"
   ]
  },
  {
   "cell_type": "code",
   "execution_count": null,
   "id": "1729116f",
   "metadata": {},
   "outputs": [],
   "source": [
    "1) Sum of 1 -> 10 numbers\n",
    "2) 1 to 10 even numbers Sum\n",
    "3) Sum of numbers divisible by 5 from 1 to 50\n",
    "4) Take Start and End number from user and print the numbers between them and calculate the sum of \n",
    "    those numbers\n",
    "5) Calculate the factorial of number"
   ]
  },
  {
   "cell_type": "markdown",
   "id": "07c019ae",
   "metadata": {},
   "source": [
    "# break"
   ]
  },
  {
   "cell_type": "code",
   "execution_count": null,
   "id": "2566cc54",
   "metadata": {},
   "outputs": [],
   "source": [
    "for i in range(1,11):\n",
    "    if i == 5:\n",
    "        break\n",
    "    print(i)    "
   ]
  },
  {
   "cell_type": "code",
   "execution_count": null,
   "id": "25fe0a12",
   "metadata": {},
   "outputs": [],
   "source": [
    "for i in range(1,11):\n",
    "    if i == 5:\n",
    "        continue\n",
    "    print(i)  "
   ]
  },
  {
   "cell_type": "code",
   "execution_count": null,
   "id": "63b2479d",
   "metadata": {},
   "outputs": [],
   "source": [
    "for i in range(1,6):\n",
    "    pass"
   ]
  },
  {
   "cell_type": "markdown",
   "id": "93af2e96",
   "metadata": {},
   "source": [
    "# List"
   ]
  },
  {
   "cell_type": "code",
   "execution_count": null,
   "id": "58aa90ea",
   "metadata": {},
   "outputs": [],
   "source": [
    "l1 = [1,2,3,4,5,\"Sumit\",\"Affan\",True] \n",
    "print(l1[-2])"
   ]
  },
  {
   "cell_type": "code",
   "execution_count": null,
   "id": "df8ce569",
   "metadata": {},
   "outputs": [],
   "source": [
    "l1 = [1,2,3,4,5,\"Sumit\",\"Affan\",\"Affan\",3,5,True] \n",
    "\n",
    "print(l1)"
   ]
  },
  {
   "cell_type": "code",
   "execution_count": null,
   "id": "26abb87f",
   "metadata": {},
   "outputs": [],
   "source": [
    "l1 = [1,2,3,4,5,\"Sumit\",\"Affan\",\"Affan\",3,5,True]\n",
    "\n",
    "l1[6] = \"Anas\"\n",
    "\n",
    "print(l1)"
   ]
  },
  {
   "cell_type": "code",
   "execution_count": null,
   "id": "6a777ec6",
   "metadata": {},
   "outputs": [],
   "source": [
    "l1 = [1,2,3,4,5,\"Sumit\",\"Affan\",\"Affan\",3,5,True]\n",
    "\n",
    "# l1.append(\"Abdan\")\n",
    "# l1.append(\"Hussain\")\n",
    "\n",
    "# l1.insert(4,\"Abdan\")\n",
    "\n",
    "# l1.pop(6)\n",
    "# l1.pop(6)\n",
    "\n",
    "l1.remove(\"Affan\")\n",
    "print(l1)"
   ]
  },
  {
   "cell_type": "markdown",
   "id": "70f1be87",
   "metadata": {},
   "source": [
    "# IPL Team Management System"
   ]
  },
  {
   "cell_type": "code",
   "execution_count": null,
   "id": "c42248a1",
   "metadata": {},
   "outputs": [],
   "source": [
    "IPL_Team = []\n",
    "while True:\n",
    "    op = int(input(\"1 -> Team Add\\n2 -> Remove Team\\n3 -> Show Team\\n4 -> Quit\\n\"))\n",
    "    if op == 1:\n",
    "        name = input(\"Enter Team Name : \")\n",
    "        if name not in IPL_Team:\n",
    "            IPL_Team.append(name)\n",
    "            print(name,\"was added successfully\")\n",
    "        else:\n",
    "            print(name,\"already exists\")\n",
    "    elif op == 2:\n",
    "        name = input(\"Enter Team Name for Deletion : \")\n",
    "        if name in IPL_Team:\n",
    "            IPL_Team.remove(name)\n",
    "            print(name,\"was deleted successfully\")\n",
    "        else:\n",
    "            print(name,\"does not exists\")\n",
    "    elif op == 3:\n",
    "        print(IPL_Team)\n",
    "    elif op == 4:\n",
    "        print(\"Thanks for using our system!!\")\n",
    "        break\n",
    "    else:\n",
    "        print(\"Invalid Operation\")"
   ]
  },
  {
   "cell_type": "code",
   "execution_count": null,
   "id": "cb439ff8",
   "metadata": {},
   "outputs": [],
   "source": [
    "print(\"CSK\" in [\"MI\",\"RCB\"])"
   ]
  },
  {
   "cell_type": "markdown",
   "id": "34203fb9",
   "metadata": {},
   "source": [
    "# Tuple"
   ]
  },
  {
   "cell_type": "code",
   "execution_count": null,
   "id": "f0a713af",
   "metadata": {},
   "outputs": [],
   "source": [
    "t1 = (3,4,5,6,7,8,\"Hussain\",\"Abdan\",\"Affan\",True,5.6)\n",
    "\n",
    "print(t1)"
   ]
  },
  {
   "cell_type": "code",
   "execution_count": null,
   "id": "7fc8b81d",
   "metadata": {},
   "outputs": [],
   "source": [
    "t1 = (3,4,5,6,7,8,\"Hussain\",\"Abdan\",\"Affan\",True,5.6)\n",
    "\n",
    "print(t1[-2])"
   ]
  },
  {
   "cell_type": "code",
   "execution_count": null,
   "id": "b5098056",
   "metadata": {},
   "outputs": [],
   "source": [
    "t1 = (3,4,5,\"Abdan\",6,5,7,8,\"Hussain\",\"Abdan\",\"Affan\",True,5.6)\n",
    "\n",
    "t1[3] = \"Affan\"\n",
    "\n",
    "\n",
    "print(t1)"
   ]
  },
  {
   "cell_type": "code",
   "execution_count": null,
   "id": "7d6c13c6",
   "metadata": {},
   "outputs": [],
   "source": [
    "t1 = (3,4,5,\"Abdan\",6,5,7,8,\"Hussain\",\"Abdan\",\"Affan\",True,5.6,5)\n",
    "\n",
    "# print(t1.index(5))\n",
    "print(t1.count(\"Adnan\"))"
   ]
  },
  {
   "cell_type": "code",
   "execution_count": null,
   "id": "c5443ad8",
   "metadata": {},
   "outputs": [],
   "source": [
    "a = (34,)\n",
    "\n",
    "print(a)\n",
    "print(type(a))"
   ]
  },
  {
   "cell_type": "code",
   "execution_count": null,
   "id": "035f305b",
   "metadata": {},
   "outputs": [],
   "source": [
    "b = 45,67\n",
    "\n",
    "print(b)\n",
    "print(type(b))"
   ]
  },
  {
   "cell_type": "markdown",
   "id": "091a4050",
   "metadata": {},
   "source": [
    "# Set"
   ]
  },
  {
   "cell_type": "code",
   "execution_count": null,
   "id": "92fcc094",
   "metadata": {},
   "outputs": [],
   "source": [
    "s1 = {3,4,5,1,\"Abdan\",6,5,7,8,\"Hussain\",\"Abdan\",\"Affan\",False,5.6,0,5}\n",
    "\n",
    "# s1.add(\"Qunoot\")\n",
    "s1.remove(\"Affan\")\n",
    "\n",
    "print(s1)"
   ]
  },
  {
   "cell_type": "markdown",
   "id": "82f34def",
   "metadata": {},
   "source": [
    "# Vegetable Basket Management System"
   ]
  },
  {
   "cell_type": "code",
   "execution_count": null,
   "id": "99bb8577",
   "metadata": {},
   "outputs": [],
   "source": [
    "Basket = set((1,2,3,4,5))\n",
    "\n",
    "print(Basket)"
   ]
  },
  {
   "cell_type": "raw",
   "id": "4aba700f",
   "metadata": {},
   "source": []
  },
  {
   "cell_type": "markdown",
   "id": "4fc64c54",
   "metadata": {},
   "source": [
    "# Dictionary"
   ]
  },
  {
   "cell_type": "code",
   "execution_count": null,
   "id": "3c289623",
   "metadata": {},
   "outputs": [],
   "source": [
    "information = {\"name\":\"Abdan\",\n",
    "               \"location\":\"kalyan\",\n",
    "               \"phone no\":12345612234,\n",
    "               \"name\":\"Affan\"}\n",
    "\n",
    "# print(list(information.items())[0])\n",
    "print(information)"
   ]
  },
  {
   "cell_type": "code",
   "execution_count": null,
   "id": "9d6bd061",
   "metadata": {},
   "outputs": [],
   "source": [
    "information = {\"name\":\"Abdan\",\n",
    "               \"location\":\"kalyan\",\n",
    "               \"phone no\":12345612234}\n",
    "\n",
    "# information.update({\"email\":\"abdan@gmail.com\"})\n",
    "\n",
    "# information.pop(\"phone no\")\n",
    "# information.popitem()\n",
    "# information.popitem()\n",
    "\n",
    "print(information.get(\"email\"))"
   ]
  },
  {
   "cell_type": "markdown",
   "id": "15bbfb53",
   "metadata": {},
   "source": [
    "# Chatgpt"
   ]
  },
  {
   "cell_type": "code",
   "execution_count": null,
   "id": "81c7b903",
   "metadata": {},
   "outputs": [],
   "source": [
    "conversation = {\"hi\":\"hello how are you\",\n",
    "               \"what is your name\":\"Im a Chatgpt\",\n",
    "               \"what is the weather today\":\"cloudy\",\n",
    "               \"what is 2 + 3\":5,\n",
    "               \"who is abdan\":\"dont know\"}\n",
    "\n",
    "while True:\n",
    "    que = input(\"Enter Prompt or q to quit : \")\n",
    "    if que == \"q\":\n",
    "        print(\"Chatgpt : Thanks for using Chatgpt\")\n",
    "        break\n",
    "    elif conversation.get(que) != None:\n",
    "        print(\"Chatgpt :\",conversation.get(que))\n",
    "    else:\n",
    "        print(\"Chatgpt : I didnt get your prompt\")"
   ]
  },
  {
   "cell_type": "markdown",
   "id": "ba34981c",
   "metadata": {},
   "source": [
    "# String"
   ]
  },
  {
   "cell_type": "code",
   "execution_count": null,
   "id": "d07664f5",
   "metadata": {},
   "outputs": [],
   "source": [
    "name = \"Hussain\"\n",
    "\n",
    "print(type(name))\n",
    "print(name)\n",
    "print(name[-1])"
   ]
  },
  {
   "cell_type": "code",
   "execution_count": null,
   "id": "85eeef60",
   "metadata": {},
   "outputs": [],
   "source": [
    "name = \"Hussain\"\n",
    "\n",
    "name[4] = \"k\"\n",
    "\n",
    "print(name)"
   ]
  },
  {
   "cell_type": "code",
   "execution_count": null,
   "id": "a2396514",
   "metadata": {},
   "outputs": [],
   "source": [
    "name = \"hussain\"\n",
    "\n",
    "print(name.upper())\n",
    "print(name.lower())\n",
    "print(name.capitalize())\n",
    "print(name.title())\n",
    "newName = name.replace(\"y\",\"e\")\n",
    "print(name)\n",
    "print(newName)\n",
    "print(name.split(\" \"))\n"
   ]
  },
  {
   "cell_type": "code",
   "execution_count": null,
   "id": "c2ba8f8f",
   "metadata": {},
   "outputs": [],
   "source": [
    "name = \" \"\n",
    "\n",
    "print(name.isupper())\n",
    "print(name.islower())\n",
    "print(name.isalpha())\n",
    "print(name.isalnum())\n",
    "print(name.isnumeric())\n",
    "print(name.isdigit())\n",
    "print(name.isdecimal())\n",
    "print(name.istitle())\n",
    "print(name.isspace())"
   ]
  },
  {
   "cell_type": "raw",
   "id": "a4ec3544",
   "metadata": {},
   "source": [
    "q.1) Write a program for a given string to calculate the sum of all the\n",
    "numbers present in it\n",
    "for example 'ap123' sum should be 6\n",
    "\n",
    "q.2) for the given list : ['91-123412345','02-1234512345','405-1234512345', '88-12234512345','007-1234512345'] print all the country code\n",
    "\n",
    "q.3) Count the number of vowels and consonents present inside your name"
   ]
  },
  {
   "cell_type": "code",
   "execution_count": null,
   "id": "ad66880d",
   "metadata": {},
   "outputs": [],
   "source": [
    "word = input(\"Enter Word\")\n",
    "\n",
    "total = 0\n",
    "for char in word:\n",
    "    if char.isnumeric():\n",
    "        total = total + int(char)\n",
    "\n",
    "print(total)"
   ]
  },
  {
   "cell_type": "code",
   "execution_count": null,
   "id": "cbb811bd",
   "metadata": {},
   "outputs": [],
   "source": [
    "number = ['91-123412345','02-1234512345','405-1234512345', \n",
    "          '88-12234512345','007-1234512345']\n",
    "\n",
    "for i in number:\n",
    "    print(i.split(\"-\")[0])"
   ]
  },
  {
   "cell_type": "code",
   "execution_count": null,
   "id": "fb123232",
   "metadata": {},
   "outputs": [],
   "source": [
    "def spiral_matrix(n):\n",
    "    matrix = [[0]*n for _ in range(n)]\n",
    "    print(matrix[0][0])\n",
    "    \n",
    "spiral_matrix(4)"
   ]
  },
  {
   "cell_type": "markdown",
   "id": "ad96628d",
   "metadata": {},
   "source": [
    "# Functions"
   ]
  },
  {
   "cell_type": "code",
   "execution_count": null,
   "id": "66524e7b",
   "metadata": {},
   "outputs": [],
   "source": [
    "def sum(a,b):\n",
    "    Sum = a + b\n",
    "    print(Sum)\n",
    "    \n",
    "sum(8,9)"
   ]
  },
  {
   "cell_type": "code",
   "execution_count": null,
   "id": "f29bb359",
   "metadata": {},
   "outputs": [],
   "source": [
    "sum([7,7,5],[4,5,6,7])"
   ]
  },
  {
   "cell_type": "raw",
   "id": "a6202164",
   "metadata": {},
   "source": [
    "1. Write a function to print \"Welcome to Python!\".\n",
    "2. Create a function to return the square of a number.\n",
    "3. Write a function to check if a number is positive or negative.\n",
    "4. Create a function to return the larger of two numbers.\n",
    "5. Write a function to find the cube of a number.\n",
    "6. Create a function that accepts a string and returns it in uppercase.\n",
    "7. Write a function that takes a number and returns True if it's even, and False otherwise.\n",
    "8. Create a function to add three numbers.\n",
    "9. Write a function that returns the length of a list.\n",
    "10. Create a function to check if a number is divisible by 5.\n",
    "11. Write a function that accepts a string and returns its first character.\n",
    "12. Create a function to calculate the sum of two numbers and return it.\n",
    "13. Write a function that takes a list and returns the last element.\n",
    "14. Create a function that returns the absolute value of a number.\n",
    "15. Write a function to check if a given string is empty or not.\n",
    "16. Create a function that returns the minimum of two numbers.\n",
    "17. Write a function to concatenate two strings and return the result.\n",
    "18. Create a function that calculates and returns the area of a circle (radius as input).\n",
    "19. Write a function to find the factorial of a number using a loop.\n",
    "20. Create a function that takes a list and returns the sum of all its elements."
   ]
  },
  {
   "cell_type": "code",
   "execution_count": null,
   "id": "046937a8",
   "metadata": {},
   "outputs": [],
   "source": [
    "def Add(a,b):\n",
    "    print(\"a =\",a,\"b =\",b)\n",
    "    print(a + b)\n",
    "    \n",
    "Add(4,6)"
   ]
  },
  {
   "cell_type": "code",
   "execution_count": null,
   "id": "7b0d365f",
   "metadata": {},
   "outputs": [],
   "source": [
    "def Add(a,b):\n",
    "    print(\"a =\",a,\"b =\",b)\n",
    "    print(a + b)\n",
    "    \n",
    "Add(b = 4,a = 6)"
   ]
  },
  {
   "cell_type": "code",
   "execution_count": null,
   "id": "a4b5c871",
   "metadata": {},
   "outputs": [],
   "source": [
    "def Add(*a):\n",
    "    print(sum(a))\n",
    "    \n",
    "Add(4,6,6,7,8)"
   ]
  },
  {
   "cell_type": "code",
   "execution_count": null,
   "id": "532be897",
   "metadata": {},
   "outputs": [],
   "source": [
    "def Add(**a):\n",
    "    print(sum(a.values()))\n",
    "    \n",
    "Add(a = 4,b = 6,c = 6,d = 7,e = 8)"
   ]
  },
  {
   "cell_type": "code",
   "execution_count": null,
   "id": "d761172f",
   "metadata": {},
   "outputs": [],
   "source": [
    "def Dictionary_Add(a,**b):\n",
    "    print(a,b)\n",
    "    \n",
    "Dictionary_Add({\"name\":\"Gaurav\",\"Age\":18},b = 45,c = 56)"
   ]
  },
  {
   "cell_type": "code",
   "execution_count": null,
   "id": "9549e7b7",
   "metadata": {},
   "outputs": [],
   "source": [
    "def Add(a,b,/,c):\n",
    "    print(\"a =\",a,\"b =\",b,\"c =\",c)\n",
    "    print(a + b + c)\n",
    "    \n",
    "Add(4,6,c = 5)"
   ]
  },
  {
   "cell_type": "code",
   "execution_count": null,
   "id": "9a376f3c",
   "metadata": {},
   "outputs": [],
   "source": [
    "def Add(c,*,a,b):\n",
    "    print(\"a =\",a,\"b =\",b,\"c =\",c)\n",
    "    print(a + b + c)\n",
    "    \n",
    "Add(5 , a = 4,b = 6)"
   ]
  },
  {
   "cell_type": "code",
   "execution_count": null,
   "id": "ce71d7c8",
   "metadata": {},
   "outputs": [],
   "source": [
    "def Add(a,b,/,c,*,d,e):\n",
    "    print(a,b,c,d,e)\n",
    "    \n",
    "Add(5,6,c = 7,d = 6,e = 7)"
   ]
  },
  {
   "cell_type": "code",
   "execution_count": null,
   "id": "1b5dfe6c",
   "metadata": {},
   "outputs": [],
   "source": [
    "def Add(a,B=45):\n",
    "    print(\"a =\",a,\"b =\",B)\n",
    "    print(a + B)\n",
    "    \n",
    "Add(4)"
   ]
  },
  {
   "cell_type": "code",
   "execution_count": null,
   "id": "154555ae",
   "metadata": {},
   "outputs": [],
   "source": [
    "def user_profile(name,Age,Location):\n",
    "    print(\"Name :\",name)\n",
    "    print(Age,Location)\n",
    "        \n",
    "        \n",
    "information = {\"Age\":18,\"Location\":\"Kalyan\"}\n",
    "user_profile(\"Gaurav\",**information)"
   ]
  },
  {
   "cell_type": "markdown",
   "id": "73b3b763",
   "metadata": {},
   "source": [
    "# lambda function"
   ]
  },
  {
   "cell_type": "code",
   "execution_count": null,
   "id": "a7d9b80f",
   "metadata": {},
   "outputs": [],
   "source": [
    "add = (lambda a , b : a + b)\n",
    "\n",
    "print(add(3,4))"
   ]
  },
  {
   "cell_type": "code",
   "execution_count": null,
   "id": "abac716f",
   "metadata": {},
   "outputs": [],
   "source": [
    "multiply three variables using lambda function"
   ]
  },
  {
   "cell_type": "markdown",
   "id": "c8265c8f",
   "metadata": {},
   "source": [
    "## map(function, sequential)"
   ]
  },
  {
   "cell_type": "code",
   "execution_count": null,
   "id": "0673a3a5",
   "metadata": {},
   "outputs": [],
   "source": [
    "l1 = [4,5,6,7,8,9]\n",
    "\n",
    "newList = []\n",
    "\n",
    "for i in l1:\n",
    "    newList.append(i + 5)\n",
    "    \n",
    "print(newList)"
   ]
  },
  {
   "cell_type": "code",
   "execution_count": null,
   "id": "8f47e683",
   "metadata": {},
   "outputs": [],
   "source": [
    "print(list(map(lambda a : a % 2 == 0,l1)))"
   ]
  },
  {
   "cell_type": "raw",
   "id": "efeb5e4c",
   "metadata": {},
   "source": [
    "q.1) multiply 5 to every element present inside a list \n",
    "[5,3,2,8,9,0,4]"
   ]
  },
  {
   "cell_type": "markdown",
   "id": "ddd1bede",
   "metadata": {},
   "source": [
    "# filter(function,sequential)"
   ]
  },
  {
   "cell_type": "code",
   "execution_count": null,
   "id": "2599e249",
   "metadata": {},
   "outputs": [],
   "source": [
    "l1 = [5,6,7,9,4,3,2,6,8,9]\n",
    "\n",
    "print(list(filter(lambda a : a % 2 != 0,l1)))"
   ]
  },
  {
   "cell_type": "code",
   "execution_count": null,
   "id": "38d7a063",
   "metadata": {},
   "outputs": [],
   "source": [
    "create a calculator.py file and define all the function named add,\n",
    "sub, mul, div and import the calculator file different python file\n",
    "and call the functions"
   ]
  },
  {
   "cell_type": "code",
   "execution_count": null,
   "id": "dd96c18b",
   "metadata": {},
   "outputs": [],
   "source": [
    "import calculator\n",
    "\n",
    "print(calculator.add(4,5))"
   ]
  },
  {
   "cell_type": "code",
   "execution_count": null,
   "id": "be7f2ee1",
   "metadata": {},
   "outputs": [],
   "source": [
    "module\n",
    "package\n",
    "library"
   ]
  },
  {
   "cell_type": "code",
   "execution_count": null,
   "id": "cdefa566",
   "metadata": {},
   "outputs": [],
   "source": [
    "from Library.Package1 import module2\n",
    "\n",
    "print(module2.mul(2,3))"
   ]
  },
  {
   "cell_type": "markdown",
   "id": "d38ddf06",
   "metadata": {},
   "source": [
    "# math module"
   ]
  },
  {
   "cell_type": "code",
   "execution_count": null,
   "id": "3ee758cc",
   "metadata": {},
   "outputs": [],
   "source": [
    "import math\n",
    "\n",
    "# print(math.sqrt(64))\n",
    "# print(math.ceil(6.1))\n",
    "# print(math.floor(6.7))\n",
    "# print(math.pi)\n",
    "# print(math.e)\n",
    "# print(math.pow(2,3))\n",
    "# print(math.sin(math.radians(90)))\n",
    "# print(math.tan(math.radians(90)))"
   ]
  },
  {
   "cell_type": "raw",
   "id": "848117a8",
   "metadata": {},
   "source": [
    "q.1) Find the Volume of Cylinder using math module"
   ]
  },
  {
   "cell_type": "markdown",
   "id": "c0eb68bb",
   "metadata": {},
   "source": [
    "# os module"
   ]
  },
  {
   "cell_type": "code",
   "execution_count": null,
   "id": "e14cbbf5",
   "metadata": {},
   "outputs": [],
   "source": [
    "import os\n",
    "# print(os.getcwd())\n",
    "# os.chdir('Day 10')\n",
    "# print(os.getcwd())\n",
    "# os.mkdir(\"Folder 1/Inside Folder\")\n",
    "# os.rmdir(\"Folder 1\")\n",
    "# os.makedirs(\"Folder 1/Inside Folder\")"
   ]
  },
  {
   "cell_type": "code",
   "execution_count": null,
   "id": "63a2215b",
   "metadata": {},
   "outputs": [],
   "source": [
    "for season in range(1,5):\n",
    "    for episode in range(1,9):\n",
    "        os.makedirs(f\"Panchayat/Season {season}/Episode {episode}\")"
   ]
  },
  {
   "cell_type": "code",
   "execution_count": null,
   "id": "fb19465f",
   "metadata": {},
   "outputs": [],
   "source": [
    "for season in range(1,5):\n",
    "    for episode in range(1,9):\n",
    "        os.removedirs(f\"Panchayat/Season {season}/Episode {episode}\")"
   ]
  },
  {
   "cell_type": "code",
   "execution_count": null,
   "id": "26bb4833",
   "metadata": {},
   "outputs": [],
   "source": [
    "os.remove(\"Panchayat\")"
   ]
  },
  {
   "cell_type": "code",
   "execution_count": null,
   "id": "82acd09c",
   "metadata": {},
   "outputs": [],
   "source": [
    "open(filepath,mode)\n",
    "\n",
    "creation mode -> x\n",
    "write mode -> w\n",
    "    write(string value)\n",
    "\n",
    "append mode -> a\n",
    "read mode -> r\n",
    "    read() -> returns file content\n",
    "    readline()\n",
    "    readlines()\n"
   ]
  },
  {
   "cell_type": "code",
   "execution_count": null,
   "id": "2ed4c0a2",
   "metadata": {},
   "outputs": [],
   "source": [
    "f = open(\"File1.txt\",\"x\")\n",
    "\n",
    "f.close()"
   ]
  },
  {
   "cell_type": "code",
   "execution_count": null,
   "id": "557cb9fc",
   "metadata": {},
   "outputs": [],
   "source": [
    "f = open(\"File1.txt\",\"w\")\n",
    "\n",
    "f.write(\"123\\n\")\n",
    "\n",
    "f.close()"
   ]
  },
  {
   "cell_type": "code",
   "execution_count": null,
   "id": "bb65e1a3",
   "metadata": {},
   "outputs": [],
   "source": [
    "f = open(\"File2.txt\",\"w\")\n",
    "f.write(\"340\")\n",
    "f.close()"
   ]
  },
  {
   "cell_type": "code",
   "execution_count": null,
   "id": "d8ea8f4c",
   "metadata": {},
   "outputs": [],
   "source": [
    "f = open(\"File1.txt\",\"r\")\n",
    "\n",
    "a = f.read()\n",
    "\n",
    "f.close()"
   ]
  },
  {
   "cell_type": "code",
   "execution_count": null,
   "id": "a99a696f",
   "metadata": {},
   "outputs": [],
   "source": [
    "f = open(\"File2.txt\",\"r\")\n",
    "\n",
    "b = f.read()\n",
    "\n",
    "f.close()"
   ]
  },
  {
   "cell_type": "code",
   "execution_count": null,
   "id": "11488b42",
   "metadata": {},
   "outputs": [],
   "source": [
    "Sum = int(a) + int(b)"
   ]
  },
  {
   "cell_type": "code",
   "execution_count": null,
   "id": "19eb65ab",
   "metadata": {},
   "outputs": [],
   "source": [
    "f = open(\"Sum.txt\",\"w\")\n",
    "f.write(str(Sum))\n",
    "f.close()"
   ]
  },
  {
   "cell_type": "code",
   "execution_count": null,
   "id": "5462f5ae",
   "metadata": {},
   "outputs": [],
   "source": [
    "f = open(\"File.txt\",\"w\")\n",
    "f.write(\"This is your first line\")\n",
    "f.close()\n",
    "\n"
   ]
  },
  {
   "cell_type": "code",
   "execution_count": null,
   "id": "98960a1f",
   "metadata": {},
   "outputs": [],
   "source": [
    "f = open(\"File.txt\",\"a\")\n",
    "f.write(\"\\nThis is your third line\")\n",
    "f.close()"
   ]
  },
  {
   "cell_type": "code",
   "execution_count": null,
   "id": "65e64b1d",
   "metadata": {},
   "outputs": [],
   "source": [
    "f = open(\"File.txt\",\"r\")\n",
    "# print(f.readline())\n",
    "# print(f.readlines()[2])\n",
    "f.close()"
   ]
  },
  {
   "cell_type": "markdown",
   "id": "3a8369ce",
   "metadata": {},
   "source": [
    "# random Module"
   ]
  },
  {
   "cell_type": "code",
   "execution_count": null,
   "id": "ec24b4c2",
   "metadata": {},
   "outputs": [],
   "source": [
    "import random\n",
    "\n",
    "# print(random.random())\n",
    "# print(random.randint(1,6))\n",
    "# print(random.choice([\"Rock\",\"Paper\",\"Scissor\"]))"
   ]
  },
  {
   "cell_type": "markdown",
   "id": "346aa6ce",
   "metadata": {},
   "source": [
    "# Rock Paper Scissor"
   ]
  },
  {
   "cell_type": "code",
   "execution_count": 2,
   "id": "8082ef84",
   "metadata": {},
   "outputs": [
    {
     "name": "stdout",
     "output_type": "stream",
     "text": [
      "1 -> Play Game\n",
      "2 -> Show Score\n",
      "3 -> Quit Game\n",
      "1\n",
      "Enter your move : r\n",
      "Computer Move : r\n",
      "Tie\n",
      "1 -> Play Game\n",
      "2 -> Show Score\n",
      "3 -> Quit Game\n",
      "1\n",
      "Enter your move : p\n",
      "Computer Move : s\n",
      "You Lose\n",
      "1 -> Play Game\n",
      "2 -> Show Score\n",
      "3 -> Quit Game\n",
      "1\n",
      "Enter your move : s\n",
      "Computer Move : s\n",
      "Tie\n",
      "1 -> Play Game\n",
      "2 -> Show Score\n",
      "3 -> Quit Game\n",
      "2\n",
      "win : 0\n",
      "lose : 1\n",
      "tie : 2\n",
      "1 -> Play Game\n",
      "2 -> Show Score\n",
      "3 -> Quit Game\n",
      "3\n",
      "Quitting\n"
     ]
    }
   ],
   "source": [
    "import random\n",
    "score = {\"win\":0,\"lose\":0,\"tie\":0}\n",
    "while True:\n",
    "    operation = int(input(\"1 -> Play Game\\n2 -> Show Score\\n3 -> Quit Game\\n\"))\n",
    "    if operation == 1:\n",
    "        computerMove = random.choice([\"r\",\"p\",\"s\"])\n",
    "\n",
    "        playerMove = input(\"Enter your move : \")\n",
    "        print(\"Computer Move :\",computerMove)\n",
    "\n",
    "        if computerMove == \"r\":\n",
    "            if playerMove == \"r\":\n",
    "                score['tie']+=1\n",
    "                print(\"Tie\")\n",
    "            elif playerMove == \"p\":\n",
    "                score['win']+=1\n",
    "                print(\"You Win\")\n",
    "            elif playerMove == \"s\":\n",
    "                score['lose']+=1\n",
    "                print(\"You Lose\")\n",
    "        elif computerMove == \"p\":\n",
    "            if playerMove == \"r\":\n",
    "                score['lose']+=1\n",
    "                print(\"You Lose\")\n",
    "            elif playerMove == \"p\":\n",
    "                score['tie']+=1\n",
    "                print(\"Tie\")\n",
    "            elif playerMove == \"s\":\n",
    "                score['win']+=1\n",
    "                print(\"You Win\")\n",
    "        elif computerMove == \"s\":\n",
    "            if playerMove == \"r\":\n",
    "                score['win']+=1\n",
    "                print(\"You Win\")\n",
    "            elif playerMove == \"p\":\n",
    "                score['lose']+=1\n",
    "                print(\"You Lose\")\n",
    "            elif playerMove == \"s\":\n",
    "                score['tie']+=1\n",
    "                print(\"Tie\")\n",
    "    elif operation == 2:\n",
    "        for i in score:\n",
    "            print(i,\":\",score[i])\n",
    "    elif operation == 3:\n",
    "        print(\"Quitting\")\n",
    "        break\n",
    "    else:\n",
    "        print(\"invalid operation\")"
   ]
  },
  {
   "cell_type": "markdown",
   "id": "003826a6",
   "metadata": {},
   "source": [
    "# Tkinter"
   ]
  },
  {
   "cell_type": "code",
   "execution_count": 15,
   "id": "de327dd8",
   "metadata": {},
   "outputs": [],
   "source": [
    "import tkinter as tk\n",
    "\n",
    "window = tk.Tk()\n",
    "window.geometry(\"400x300\")\n",
    "window.title(\"My First App\")\n",
    "window.iconbitmap(\"exam.ico\")\n",
    "\n",
    "label = tk.Label(window,\n",
    "                 text = \"Sumit Jaiswar\",\n",
    "                font = (\"Arial\",20,\"bold\"))\n",
    "label.pack(side = \"top\")\n",
    "\n",
    "window.mainloop()"
   ]
  },
  {
   "cell_type": "code",
   "execution_count": 22,
   "id": "a56b2844",
   "metadata": {},
   "outputs": [],
   "source": [
    "import tkinter as tk\n",
    "\n",
    "window = tk.Tk()\n",
    "window.title(\"My App\")\n",
    "window.geometry(\"400x300\")\n",
    "window.config(background = \"black\")\n",
    "\n",
    "l1 = tk.Label(window,\n",
    "              text = \"Hello World\",\n",
    "              font = (\"Arial\",20,\"bold\"),\n",
    "              bg = \"black\",\n",
    "              fg = \"white\")\n",
    "l1.pack()\n",
    "\n",
    "l2 = tk.Label(window,\n",
    "              text = \"My name is Sumit Jaiswar\",\n",
    "              font = (\"Arial\",20,\"bold\"),\n",
    "              bg = \"black\",\n",
    "              fg = \"white\")\n",
    "l2.pack()\n",
    "\n",
    "window.mainloop()"
   ]
  },
  {
   "cell_type": "code",
   "execution_count": 45,
   "id": "d71496b9",
   "metadata": {},
   "outputs": [],
   "source": [
    "import tkinter as tk\n",
    "\n",
    "window = tk.Tk()\n",
    "window.geometry(\"500x350\")\n",
    "\n",
    "def add_text():\n",
    "    value = e1.get()\n",
    "    l2 = tk.Label(window,\n",
    "                    text = value,\n",
    "                    font = (\"Arial\",20,\"bold\"))\n",
    "    l2.pack()\n",
    "\n",
    "l1 = tk.Label(window,\n",
    "        text = \"Enter Text\",\n",
    "        font = (\"Arial\",20,\"bold\"),\n",
    "        pady = 20)\n",
    "e1 = tk.Entry(window,\n",
    "             width = 20,\n",
    "             font = (\"Arial\",20,\"bold\"),\n",
    "             borderwidth = 5)\n",
    "b1 = tk.Button(window,\n",
    "              text = \"Submit\",\n",
    "              font = (\"Arial\",15,\"bold\"),\n",
    "              command = add_text)\n",
    "\n",
    "l1.pack()\n",
    "e1.pack(pady = 16)\n",
    "b1.pack()\n",
    "\n",
    "window.mainloop()"
   ]
  },
  {
   "cell_type": "code",
   "execution_count": 55,
   "id": "5182c02f",
   "metadata": {},
   "outputs": [],
   "source": [
    "import tkinter as tk\n",
    "\n",
    "window = tk.Tk()\n",
    "window.geometry(\"400x300\")\n",
    "\n",
    "def add():\n",
    "    a = e1.get()\n",
    "    b = e2.get()\n",
    "    Sum = int(a) + int(b)\n",
    "    l1.config(text = Sum)\n",
    "\n",
    "e1 = tk.Entry(window,\n",
    "             width = 20,\n",
    "             font = (\"Arial\",20,\"bold\"),\n",
    "             borderwidth = 5)\n",
    "e2 = tk.Entry(window,\n",
    "             width = 20,\n",
    "             font = (\"Arial\",20,\"bold\"),\n",
    "             borderwidth = 5)\n",
    "b1 = tk.Button(window,\n",
    "              text = \"Add\",\n",
    "              font = (\"Arial\",15,\"bold\"),\n",
    "              command = add)\n",
    "l1 = tk.Label(window,\n",
    "            font = (\"Arial\",20,\"bold\"))\n",
    "\n",
    "e1.pack(pady = 16)\n",
    "e2.pack(pady = 16)\n",
    "b1.pack(pady = 16)\n",
    "l1.pack()\n",
    "\n",
    "window.mainloop()"
   ]
  },
  {
   "cell_type": "code",
   "execution_count": 1,
   "id": "5c9f02cf",
   "metadata": {},
   "outputs": [],
   "source": [
    "import tkinter as tk\n",
    "\n",
    "window = tk.Tk()\n",
    "\n",
    "window.geometry(\"400x300\")\n",
    "\n",
    "def BackSpace():\n",
    "    e1.delete(len(e1.get())-1,tk.END)\n",
    "def Delete():\n",
    "    e1.delete(0,tk.END)\n",
    "def Submit():\n",
    "    content = e1.get()\n",
    "    label.config(text = content)\n",
    "\n",
    "e1 = tk.Entry(window,\n",
    "              width = 30,\n",
    "              borderwidth = 5,\n",
    "              font = (\"Arial\",15,\"bold\"))\n",
    "\n",
    "backspace = tk.Button(window,\n",
    "               text = \"Backspace\",\n",
    "               font = (\"Arial\",15,\"bold\"),\n",
    "                     command = BackSpace)\n",
    "delete = tk.Button(window,\n",
    "               text = \"Delete\",\n",
    "               font = (\"Arial\",15,\"bold\"),\n",
    "                  command = Delete)\n",
    "submit = tk.Button(window,\n",
    "               text = \"Submit\",\n",
    "               font = (\"Arial\",15,\"bold\"),\n",
    "                  command = Submit)\n",
    "close = tk.Button(window,\n",
    "               text = \"Close\",\n",
    "               font = (\"Arial\",15,\"bold\"),\n",
    "                      command = window.quit)\n",
    "label = tk.Label(window,\n",
    "                font = (\"Arial\",15,\"bold\"))\n",
    "e1.pack(pady = 5)\n",
    "backspace.pack(pady = 5)\n",
    "delete.pack(pady = 5)\n",
    "submit.pack(pady = 5)\n",
    "close.pack()\n",
    "label.pack()\n",
    "\n",
    "window.mainloop()"
   ]
  },
  {
   "cell_type": "code",
   "execution_count": 1,
   "id": "9fdb760f",
   "metadata": {},
   "outputs": [
    {
     "name": "stdout",
     "output_type": "stream",
     "text": [
      "1\n",
      "0\n",
      "1\n",
      "0\n"
     ]
    }
   ],
   "source": [
    "import tkinter as tk\n",
    "\n",
    "window = tk.Tk()\n",
    "window.geometry(\"400x300\")\n",
    "\n",
    "def fun():\n",
    "    print(x.get())\n",
    "\n",
    "x = tk.IntVar()\n",
    "check = tk.Checkbutton(window,\n",
    "                       text = \"I agree\",\n",
    "                       variable = x,\n",
    "                       command = fun,\n",
    "                       \n",
    "                      )\n",
    "check.pack()\n",
    "\n",
    "\n",
    "window.mainloop()"
   ]
  },
  {
   "cell_type": "code",
   "execution_count": 47,
   "id": "7df2c9a8",
   "metadata": {},
   "outputs": [],
   "source": [
    "import tkinter as tk\n",
    "\n",
    "window = tk.Tk()\n",
    "window.config(background = \"#d051f0\")\n",
    "\n",
    "Font = (\"Arial\",20,\"bold\")\n",
    "\n",
    "def show():\n",
    "    Fname = e1.get()\n",
    "    Lname = e2.get()\n",
    "    Age = e3.get()\n",
    "    second_window = tk.Tk()\n",
    "    s_l1 = tk.Label(second_window,text = Fname,font =Font)\n",
    "    s_l2 = tk.Label(second_window,text = Lname,font = Font)\n",
    "    s_l3 = tk.Label(second_window,text = Age,font = Font)\n",
    "    s_l1.pack()\n",
    "    s_l2.pack()\n",
    "    s_l3.pack()\n",
    "    second_window.mainloop()\n",
    "    \n",
    "\n",
    "l1 = tk.Label(window,text = \"First Name : \",font =Font,bg = \"#d051f0\",fg = \"white\")\n",
    "l2 = tk.Label(window,text = \"Last Name : \",font = Font,bg = \"#d051f0\",fg = \"white\")\n",
    "l3 = tk.Label(window,text = \"Age : \",font = Font,bg = \"#d051f0\",fg = \"white\")\n",
    "\n",
    "e1 = tk.Entry(window,width = 20,font = Font,borderwidth = 5)\n",
    "e2 = tk.Entry(window,width = 20,font = Font,borderwidth = 5)\n",
    "e3 = tk.Entry(window,width = 20,font = Font,borderwidth = 5)\n",
    "\n",
    "b1 = tk.Button(window,text = \"Submit\",font = Font,command = show)\n",
    "\n",
    "l1.grid(row = 0,column = 0,padx = 20,pady = 10,sticky = \"w\")\n",
    "l2.grid(row = 1,column = 0,padx = 20,pady = 10,sticky = \"w\")\n",
    "l3.grid(row = 2,column = 0,padx = 20,pady = 10,sticky = \"w\")\n",
    "e1.grid(row = 0,column = 1,padx = 20,pady = 10)\n",
    "e2.grid(row = 1,column = 1,padx = 20,pady = 10)\n",
    "e3.grid(row = 2,column = 1,padx = 20,pady = 10)\n",
    "b1.grid(row = 3,column = 0,columnspan = 2,padx = 20,pady = 10)\n",
    "\n",
    "\n",
    "window.mainloop()"
   ]
  },
  {
   "cell_type": "markdown",
   "id": "86be558d",
   "metadata": {},
   "source": [
    "# Calculator"
   ]
  },
  {
   "cell_type": "code",
   "execution_count": 111,
   "id": "25a36879",
   "metadata": {},
   "outputs": [],
   "source": [
    "import tkinter as tk\n",
    "\n",
    "window = tk.Tk()\n",
    "window.title(\"Calculator\")\n",
    "window.iconbitmap(\"Calculator.ico\")\n",
    "\n",
    "Font = (\"Arial\",20,\"bold\")\n",
    "\n",
    "def show(number):\n",
    "    e1.insert(tk.END,number)\n",
    "def clear():\n",
    "    e1.delete(0,tk.END)\n",
    "def backspace():\n",
    "    content = e1.get()\n",
    "    e1.delete(len(content)-1,tk.END)\n",
    "def equal():\n",
    "    content = e1.get()\n",
    "    e1.delete(0,tk.END)\n",
    "    e1.insert(0,eval(content))\n",
    "\n",
    "e1 = tk.Entry(window,width = 25,font = Font,borderwidth = 5)\n",
    "\n",
    "button_1 = tk.Button(window,text = \"1\",padx = 40,pady = 20,command = lambda:show(1))\n",
    "button_2 = tk.Button(window,text = \"2\",padx = 40,pady = 20,command = lambda:show(2))\n",
    "button_3 = tk.Button(window,text = \"3\",padx = 40,pady = 20,command = lambda:show(3))\n",
    "button_4 = tk.Button(window,text = \"4\",padx = 40,pady = 20,command = lambda:show(4))\n",
    "button_5 = tk.Button(window,text = \"5\",padx = 40,pady = 20,command = lambda:show(5))\n",
    "button_6 = tk.Button(window,text = \"6\",padx = 40,pady = 20,command = lambda:show(6))\n",
    "button_7 = tk.Button(window,text = \"7\",padx = 40,pady = 20,command = lambda:show(7))\n",
    "button_8 = tk.Button(window,text = \"8\",padx = 40,pady = 20,command = lambda:show(8))\n",
    "button_9 = tk.Button(window,text = \"9\",padx = 40,pady = 20,command = lambda:show(9))\n",
    "button_0 = tk.Button(window,text = \"0\",padx = 40,pady = 20,command = lambda:show(0))\n",
    "\n",
    "button_plus = tk.Button(window,text = \"+\",padx = 40,pady = 20,command = lambda:show(\"+\"))\n",
    "button_minus = tk.Button(window,text = \"-\",padx = 41,pady = 20,command = lambda:show(\"-\"))\n",
    "button_mul = tk.Button(window,text = \"x\",padx = 41,pady = 20,command = lambda:show(\"*\"))\n",
    "button_div = tk.Button(window,text = \"÷\",padx = 40,pady = 20,command = lambda:show(\"/\"))\n",
    "\n",
    "backspace = tk.Button(window,text = \"Backspace\",padx = 66,pady = 20,command = backspace)\n",
    "clear = tk.Button(window,text = \"Clear\",padx = 80,pady = 20,command = clear)\n",
    "equal = tk.Button(window,text = \"=\",padx = 90,pady = 20,command = equal)\n",
    " \n",
    "e1.grid(row = 0,column = 0,padx = 10,pady = 5,columnspan = 4)\n",
    "\n",
    "button_7.grid(row = 1,column = 0,pady =5)\n",
    "button_8.grid(row = 1,column = 1,pady =5)\n",
    "button_9.grid(row = 1,column = 2,pady =5)\n",
    "button_plus.grid(row = 1,column = 3,pady =5)\n",
    "\n",
    "button_4.grid(row = 2,column = 0,pady =5)\n",
    "button_5.grid(row = 2,column = 1,pady =5)\n",
    "button_6.grid(row = 2,column = 2,pady =5)\n",
    "button_minus.grid(row = 2,column = 3,pady =5)\n",
    "\n",
    "button_1.grid(row = 3,column = 0,pady =5)\n",
    "button_2.grid(row = 3,column = 1,pady =5)\n",
    "button_3.grid(row = 3,column = 2,pady =5)\n",
    "button_mul.grid(row = 3,column = 3,pady =5)\n",
    "\n",
    "backspace.grid(row = 4,column = 0,columnspan = 2,pady =5)\n",
    "button_0.grid(row = 4,column = 2,pady =5)\n",
    "button_div.grid(row = 4,column = 3,pady =5)\n",
    "\n",
    "clear.grid(row = 5,column = 0,columnspan = 2,pady =5)\n",
    "equal.grid(row = 5,column = 2,columnspan = 2,pady =5)\n",
    "\n",
    "window.mainloop()"
   ]
  },
  {
   "cell_type": "markdown",
   "id": "bda376cc",
   "metadata": {},
   "source": [
    "# Radiobutton"
   ]
  },
  {
   "cell_type": "code",
   "execution_count": 15,
   "id": "02e02e5f",
   "metadata": {},
   "outputs": [],
   "source": [
    "import tkinter as tk\n",
    "\n",
    "window = tk.Tk()\n",
    "Font = (\"Arial\",20,\"bold\")\n",
    "\n",
    "def get_fruit():\n",
    "    l1.config(text = fruit.get())\n",
    "\n",
    "fruit = tk.StringVar()\n",
    "fruit.set(\"Apple\")\n",
    "\n",
    "r1 = tk.Radiobutton(window,\n",
    "                    text = \"Apple\",\n",
    "                    font = Font,\n",
    "                    variable=fruit,\n",
    "                    value = \"Apple\",\n",
    "                    command = get_fruit\n",
    "                   )\n",
    "r1.pack(anchor = \"w\")\n",
    "r2 = tk.Radiobutton(window,\n",
    "                    text = \"Orange\",\n",
    "                    font = Font,\n",
    "                    variable=fruit,\n",
    "                    value = \"Orange\",\n",
    "                    command = get_fruit\n",
    "                   )\n",
    "r2.pack(anchor = \"w\")\n",
    "r3 = tk.Radiobutton(window,\n",
    "                    text = \"Banana\",\n",
    "                    font = Font,\n",
    "                    variable=fruit,\n",
    "                    value = \"Banana\",\n",
    "                    command = get_fruit\n",
    "                   )\n",
    "r3.pack(anchor = \"w\")\n",
    "r4 = tk.Radiobutton(window,\n",
    "                    text = \"Strawberry\",\n",
    "                    font = Font,\n",
    "                    variable=fruit,\n",
    "                    value = \"Strawberry\",\n",
    "                    command = get_fruit\n",
    "                   )\n",
    "r4.pack(anchor = \"w\")\n",
    "\n",
    "l1 = tk.Label(window,font=Font)\n",
    "l1.pack()\n",
    "\n",
    "window.mainloop()"
   ]
  },
  {
   "cell_type": "markdown",
   "id": "00e64641",
   "metadata": {},
   "source": [
    "# Checkbutton"
   ]
  },
  {
   "cell_type": "code",
   "execution_count": 28,
   "id": "28171afa",
   "metadata": {},
   "outputs": [],
   "source": [
    "import tkinter as tk\n",
    "\n",
    "window = tk.Tk()\n",
    "Font = (\"Arial\",20,\"bold\")\n",
    "\n",
    "def get_fruit():\n",
    "    l1.config(text = f\"\"\"\n",
    "    Apple : {Apple.get()}\n",
    "    Orange : {Orange.get()}\n",
    "    Banana : {Banana.get()}\n",
    "    Strawberry : {Strawberry.get()}\n",
    "    \"\"\")\n",
    "    \n",
    "Apple = tk.StringVar()\n",
    "Orange = tk.StringVar()\n",
    "Banana = tk.StringVar()\n",
    "Strawberry = tk.StringVar()\n",
    "\n",
    "c1 = tk.Checkbutton(window,\n",
    "                    text = \"Apple\",\n",
    "                    font = Font,\n",
    "                    variable = Apple,\n",
    "                    command = get_fruit,\n",
    "                    onvalue = \"Selected\",\n",
    "                    offvalue = \"Not Selected\"\n",
    "                   )\n",
    "c1.pack(anchor = \"w\")\n",
    "c2 = tk.Checkbutton(window,\n",
    "                    text = \"Orange\",\n",
    "                    font = Font,\n",
    "                    variable = Orange,\n",
    "                    command = get_fruit,\n",
    "                    onvalue = \"Selected\",\n",
    "                    offvalue = \"Not Selected\"\n",
    "                   )\n",
    "c2.pack(anchor = \"w\")\n",
    "c3 = tk.Checkbutton(window,\n",
    "                    text = \"Banana\",\n",
    "                    font = Font,\n",
    "                    variable = Banana,\n",
    "                    command = get_fruit,\n",
    "                    onvalue = \"Selected\",\n",
    "                    offvalue = \"Not Selected\"                    \n",
    "                   )\n",
    "c3.pack(anchor = \"w\")\n",
    "c4 = tk.Checkbutton(window,\n",
    "                    text = \"Strawberry\",\n",
    "                    font = Font,\n",
    "                    variable = Strawberry,\n",
    "                    command = get_fruit,\n",
    "                    onvalue = \"Selected\",\n",
    "                    offvalue = \"Not Selected\"                    \n",
    "                   )\n",
    "c4.pack(anchor = \"w\")\n",
    "l1 = tk.Label(window,font=Font)\n",
    "l1.pack()\n",
    "\n",
    "window.mainloop()"
   ]
  },
  {
   "cell_type": "markdown",
   "id": "32ee5966",
   "metadata": {},
   "source": [
    "# OptionMenu"
   ]
  },
  {
   "cell_type": "code",
   "execution_count": 37,
   "id": "3fe85235",
   "metadata": {},
   "outputs": [],
   "source": [
    "import tkinter as tk\n",
    "\n",
    "window = tk.Tk()\n",
    "Font = (\"Arial\",20,\"bold\")\n",
    "\n",
    "fruit = tk.StringVar()\n",
    "fruit.set(\"Apple\")\n",
    "\n",
    "Fruits = [\"Apple\",\"Orange\",\"Banana\",\"Strawberry\"]\n",
    "\n",
    "o1 = tk.OptionMenu(window,fruit,*Fruits)\n",
    "o1.pack()\n",
    "\n",
    "window.mainloop()"
   ]
  },
  {
   "cell_type": "code",
   "execution_count": 40,
   "id": "160e0e90",
   "metadata": {},
   "outputs": [],
   "source": [
    "import tkinter as tk\n",
    "\n",
    "window = tk.Tk()\n",
    "window.title(\"Student Form\")\n",
    "window.iconbitmap(\"exam.ico\")\n",
    "\n",
    "pi = tk.LabelFrame(window,text = \"Personal Information\")\n",
    "\n",
    "tk.Label(pi,text = \"First Name :\",font = (\"Arial\",16,\"bold\")).grid(sticky = \"w\",row = 0,column = 0,padx = 25,pady = 15)\n",
    "tk.Entry(pi,borderwidth = 5,font = (\"Arial\",16,\"bold\")).grid(row = 0,column = 1,padx = 25,pady = 15)\n",
    "\n",
    "tk.Label(pi,text = \"Last Name :\",font = (\"Arial\",16,\"bold\")).grid(sticky = \"w\",row = 1,column = 0,padx = 25,pady = 15)\n",
    "tk.Entry(pi,borderwidth = 5,font = (\"Arial\",16,\"bold\")).grid(row = 1,column = 1,padx = 25,pady = 15)\n",
    "\n",
    "tk.Label(pi,text = \"Age :\",font = (\"Arial\",16,\"bold\")).grid(sticky = \"w\",row = 2,column = 0,padx = 25,pady = 15)\n",
    "tk.Entry(pi,borderwidth = 5,font = (\"Arial\",16,\"bold\")).grid(row = 2,column = 1,padx = 25,pady = 15)\n",
    "\n",
    "tk.Label(pi,text = \"Gender :\",font = (\"Arial\",16,\"bold\")).grid(sticky = \"w\",row = 3,column = 0,padx = 25,pady = 15)\n",
    "tk.Radiobutton(pi,text = \"Male\",font = (\"Arial\",12,\"bold\")).grid(sticky = \"w\",row = 3,column = 1,padx = 25,pady = 15)\n",
    "tk.Radiobutton(pi,text = \"Female\",font = (\"Arial\",12,\"bold\")).grid(sticky = \"\",row = 3,column = 1,padx = 25,pady = 15)\n",
    "tk.Radiobutton(pi,text = \"Other\",font = (\"Arial\",12,\"bold\")).grid(sticky = \"e\",row = 3,column = 1,padx = 25,pady = 15)\n",
    "\n",
    "pi.grid(row = 0,column = 0,columnspan = 2,padx = 5,pady = 5)\n",
    "\n",
    "ei = tk.LabelFrame(window,text = \"Educational Information\")\n",
    "\n",
    "tk.Label(ei,text = \"Location :\",font = (\"Arial\",16,\"bold\")).grid(sticky = \"w\",row = 4,column = 0,padx = 25,pady = 15)\n",
    "location = tk.StringVar()\n",
    "locations = [\"Kalyan\",\"Dombivli\",\"Thane\",\"Titwala\",\"Ambernath\"]\n",
    "location.set(\"Kalyan\")\n",
    "tk.OptionMenu(ei,location,*locations).grid(sticky = \"w\",row = 4,column = 1,padx = 120,pady = 15)\n",
    "\n",
    "tk.Label(ei,text = \"Skills :\",font = (\"Arial\",16,\"bold\")).grid(sticky = \"w\",row = 5,column = 0,padx = 25,pady = 15)\n",
    "tk.Checkbutton(ei,text = \"Python\",font = (\"Arial\",12,\"bold\")).grid(sticky = \"w\",row = 5,column = 1,padx = 25,pady = 15)\n",
    "tk.Checkbutton(ei,text = \"HTML\",font = (\"Arial\",12,\"bold\")).grid(sticky = \"\",row = 5,column = 1,padx = 25,pady = 15)\n",
    "tk.Checkbutton(ei,text = \"CSS\",font = (\"Arial\",12,\"bold\")).grid(sticky = \"e\",row = 5,column = 1,padx = 25,pady = 15)\n",
    "\n",
    "ei.grid(row = 2,column = 0,columnspan = 2,padx = 5,pady = 5)\n",
    "\n",
    "ui = tk.LabelFrame(window,text = \"Undertaking Information\")\n",
    "tk.Checkbutton(ui,text = \"I will be responsible for any false information\",font = (\"Arial\",12,\"bold\")).grid(row = 6,column = 0,columnspan = 2,padx = 52,pady = 15)\n",
    "ui.grid(row = 3,column = 0,columnspan = 2,padx = 5,pady = 5)\n",
    "tk.Button(window,text = \"Submit\",font = (\"Arial\",14,\"bold\")).grid(row = 4,column = 0,columnspan = 2,padx = 25,pady = 15)\n",
    "window.mainloop()"
   ]
  }
 ],
 "metadata": {
  "kernelspec": {
   "display_name": "Python 3 (ipykernel)",
   "language": "python",
   "name": "python3"
  },
  "language_info": {
   "codemirror_mode": {
    "name": "ipython",
    "version": 3
   },
   "file_extension": ".py",
   "mimetype": "text/x-python",
   "name": "python",
   "nbconvert_exporter": "python",
   "pygments_lexer": "ipython3",
   "version": "3.11.5"
  }
 },
 "nbformat": 4,
 "nbformat_minor": 5
}
